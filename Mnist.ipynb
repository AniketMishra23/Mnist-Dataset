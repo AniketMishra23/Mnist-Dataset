{
  "nbformat": 4,
  "nbformat_minor": 0,
  "metadata": {
    "colab": {
      "name": "Mnist.ipynb",
      "provenance": [],
      "collapsed_sections": [],
      "authorship_tag": "ABX9TyMv9tCrg9E5Bh1D0CkThaXi",
      "include_colab_link": true
    },
    "kernelspec": {
      "name": "python3",
      "display_name": "Python 3"
    },
    "language_info": {
      "name": "python"
    }
  },
  "cells": [
    {
      "cell_type": "markdown",
      "metadata": {
        "id": "view-in-github",
        "colab_type": "text"
      },
      "source": [
        "<a href=\"https://colab.research.google.com/github/AniketMishra23/Mnist-Dataset/blob/main/Mnist.ipynb\" target=\"_parent\"><img src=\"https://colab.research.google.com/assets/colab-badge.svg\" alt=\"Open In Colab\"/></a>"
      ]
    },
    {
      "cell_type": "code",
      "execution_count": null,
      "metadata": {
        "id": "HaCBBP_wfh2U"
      },
      "outputs": [],
      "source": [
        "import numpy as np\n",
        "import matplotlib.pyplot as plt\n",
        "\n",
        "import keras\n",
        "from keras.datasets import mnist\n",
        "\n",
        "import tensorflow\n",
        "\n",
        "from keras.models import Sequential\n",
        "from keras.layers import Dense, Flatten, Conv2D, MaxPool2D, Dropout\n",
        "from tensorflow.keras.utils import to_categorical"
      ]
    },
    {
      "cell_type": "code",
      "source": [
        "from keras import utils as np_utils "
      ],
      "metadata": {
        "id": "_753uGn2uo7y"
      },
      "execution_count": null,
      "outputs": []
    },
    {
      "cell_type": "code",
      "source": [
        "(x_train, y_train), (x_test, y_test) = mnist.load_data()\n",
        "\n",
        "x_train.shape, y_train.shape,  x_test.shape,  y_test.shape"
      ],
      "metadata": {
        "id": "JGKI7rRRoc6z"
      },
      "execution_count": null,
      "outputs": []
    },
    {
      "cell_type": "code",
      "source": [
        "def plot_input_img(i):    \n",
        "    plt.imshow(x_train[i] , cmap='binary')\n",
        "    plt.title(y_train[i])\n",
        "    plt.show()"
      ],
      "metadata": {
        "id": "m5qdZEHrs7lf"
      },
      "execution_count": null,
      "outputs": []
    },
    {
      "cell_type": "code",
      "source": [
        "for i in range(2):\n",
        "  plot_input_img(i)"
      ],
      "metadata": {
        "id": "AAq322ZqwzO0"
      },
      "execution_count": null,
      "outputs": []
    },
    {
      "cell_type": "code",
      "source": [
        "#Preprocessing the image\n",
        "\n",
        "#Normalizing the image in [0,1] range\n",
        "x_train = x_train.astype(np.float32)/255\n",
        "x_test = x_test.astype(np.float32)/255\n",
        "\n",
        "#Reshape / Expand the dimension of images to (28,28,1)\n",
        "x_train = np.expand_dims(x_train, -1)\n",
        "x_test = np.expand_dims(x_test, -1)\n",
        "\n",
        "#Convert class to one hot vector\n",
        "y_train =  tensorflow.keras.utils.to_categorical(y_train)\n",
        "y_test =  tensorflow.keras.utils.to_categorical(y_test)"
      ],
      "metadata": {
        "id": "8xUfAQ0E4u8f"
      },
      "execution_count": null,
      "outputs": []
    },
    {
      "cell_type": "code",
      "source": [
        "model = Sequential()\n",
        "\n",
        "model.add(Conv2D(32,(3,3), input_shape = (28, 28,1), activation= 'relu'))\n",
        "model.add(MaxPool2D((2,2)))\n",
        "\n",
        "model.add(Conv2D(64,(3,3) , activation= 'relu') )\n",
        "model.add(MaxPool2D((2,2)))\n",
        "\n",
        "model.add(Flatten())\n",
        "model.add(Dropout(0.25))\n",
        "model.add(Dense(10,activation=\"softmax\"))"
      ],
      "metadata": {
        "id": "Ji5OryLjuOpA"
      },
      "execution_count": null,
      "outputs": []
    },
    {
      "cell_type": "code",
      "source": [
        "model.summary()"
      ],
      "metadata": {
        "id": "WooGScuQxfN8"
      },
      "execution_count": null,
      "outputs": []
    },
    {
      "cell_type": "code",
      "source": [
        "model.compile(optimizer= 'adam', loss= keras.losses.categorical_crossentropy, metrics=['accuracy'])"
      ],
      "metadata": {
        "id": "yqjWe2vyCSMm"
      },
      "execution_count": null,
      "outputs": []
    },
    {
      "cell_type": "code",
      "source": [
        "#Callbacks\n",
        "from keras.callbacks import EarlyStopping, ModelCheckpoint\n",
        "#Earlystopping\n",
        "\n",
        "es = EarlyStopping(monitor= 'val_acc', min_delta= 0.01, patience= 4, verbose= 1)\n",
        "#Model Check Point\n",
        "mc = ModelCheckpoint(\"./bestmodel.h5\", monitors= \"val acc\", verbose= 1, save_best_onlys= True)\n",
        "\n",
        "cb = [es,mc]"
      ],
      "metadata": {
        "id": "LR4t7oQHAgd0"
      },
      "execution_count": null,
      "outputs": []
    },
    {
      "cell_type": "code",
      "source": [
        "his = model.fit(x_train, y_train, epochs= 5, validation_split= 0.3, callbacks= cb)"
      ],
      "metadata": {
        "colab": {
          "base_uri": "https://localhost:8080/"
        },
        "id": "195txs4aBIrT",
        "outputId": "f4845b6a-85c7-4baa-a38a-d9a4117e01b6"
      },
      "execution_count": null,
      "outputs": [
        {
          "output_type": "stream",
          "name": "stdout",
          "text": [
            "Epoch 1/5\n",
            "1311/1313 [============================>.] - ETA: 0s - loss: 0.0229 - accuracy: 0.9923WARNING:tensorflow:Early stopping conditioned on metric `val_acc` which is not available. Available metrics are: loss,accuracy,val_loss,val_accuracy\n",
            "\n",
            "Epoch 00001: saving model to ./bestmodel.h5\n",
            "1313/1313 [==============================] - 44s 34ms/step - loss: 0.0229 - accuracy: 0.9922 - val_loss: 0.0467 - val_accuracy: 0.9873\n",
            "Epoch 2/5\n",
            "1312/1313 [============================>.] - ETA: 0s - loss: 0.0206 - accuracy: 0.9925WARNING:tensorflow:Early stopping conditioned on metric `val_acc` which is not available. Available metrics are: loss,accuracy,val_loss,val_accuracy\n",
            "\n",
            "Epoch 00002: saving model to ./bestmodel.h5\n",
            "1313/1313 [==============================] - 44s 34ms/step - loss: 0.0206 - accuracy: 0.9925 - val_loss: 0.0393 - val_accuracy: 0.9888\n",
            "Epoch 3/5\n",
            "1311/1313 [============================>.] - ETA: 0s - loss: 0.0182 - accuracy: 0.9940WARNING:tensorflow:Early stopping conditioned on metric `val_acc` which is not available. Available metrics are: loss,accuracy,val_loss,val_accuracy\n",
            "\n",
            "Epoch 00003: saving model to ./bestmodel.h5\n",
            "1313/1313 [==============================] - 45s 34ms/step - loss: 0.0182 - accuracy: 0.9940 - val_loss: 0.0369 - val_accuracy: 0.9894\n",
            "Epoch 4/5\n",
            "1312/1313 [============================>.] - ETA: 0s - loss: 0.0163 - accuracy: 0.9941WARNING:tensorflow:Early stopping conditioned on metric `val_acc` which is not available. Available metrics are: loss,accuracy,val_loss,val_accuracy\n",
            "\n",
            "Epoch 00004: saving model to ./bestmodel.h5\n",
            "1313/1313 [==============================] - 44s 34ms/step - loss: 0.0163 - accuracy: 0.9941 - val_loss: 0.0375 - val_accuracy: 0.9904\n",
            "Epoch 5/5\n",
            "1311/1313 [============================>.] - ETA: 0s - loss: 0.0158 - accuracy: 0.9950WARNING:tensorflow:Early stopping conditioned on metric `val_acc` which is not available. Available metrics are: loss,accuracy,val_loss,val_accuracy\n",
            "\n",
            "Epoch 00005: saving model to ./bestmodel.h5\n",
            "1313/1313 [==============================] - 44s 34ms/step - loss: 0.0158 - accuracy: 0.9950 - val_loss: 0.0445 - val_accuracy: 0.9892\n"
          ]
        }
      ]
    },
    {
      "cell_type": "code",
      "source": [
        "import numpy as np \n",
        "y_pred = model.predict(x_test)"
      ],
      "metadata": {
        "id": "jKZ4SwVTT-ZZ"
      },
      "execution_count": null,
      "outputs": []
    },
    {
      "cell_type": "code",
      "source": [
        "y_pred = np.argmax(y_pred,axis = 1)\n",
        "y_pred"
      ],
      "metadata": {
        "colab": {
          "base_uri": "https://localhost:8080/"
        },
        "id": "dm_xwm5OT_UG",
        "outputId": "2c2e1992-7135-4eb2-dc2c-a964a098be69"
      },
      "execution_count": null,
      "outputs": [
        {
          "output_type": "execute_result",
          "data": {
            "text/plain": [
              "array([7, 2, 1, ..., 4, 5, 6])"
            ]
          },
          "metadata": {},
          "execution_count": 32
        }
      ]
    },
    {
      "cell_type": "code",
      "source": [
        "from sklearn.metrics import accuracy_score"
      ],
      "metadata": {
        "id": "MTE4ve2gGYmX"
      },
      "execution_count": null,
      "outputs": []
    },
    {
      "cell_type": "code",
      "source": [
        "import numpy as np\n",
        "rounded_labels=np.argmax(y_test, axis=1)\n",
        "rounded_labels"
      ],
      "metadata": {
        "colab": {
          "base_uri": "https://localhost:8080/"
        },
        "id": "fgVERXgKXZEq",
        "outputId": "5270c797-a537-4dff-b820-d0c8c024ff84"
      },
      "execution_count": null,
      "outputs": [
        {
          "output_type": "execute_result",
          "data": {
            "text/plain": [
              "array([7, 2, 1, ..., 4, 5, 6])"
            ]
          },
          "metadata": {},
          "execution_count": 41
        }
      ]
    },
    {
      "cell_type": "code",
      "source": [
        "accuracy_score(y_pred,rounded_labels)"
      ],
      "metadata": {
        "colab": {
          "base_uri": "https://localhost:8080/"
        },
        "id": "ntNt3EtpPzrV",
        "outputId": "a94c4b10-67da-43b7-db37-6fa05dca67f0"
      },
      "execution_count": null,
      "outputs": [
        {
          "output_type": "execute_result",
          "data": {
            "text/plain": [
              "0.9909"
            ]
          },
          "metadata": {},
          "execution_count": 43
        }
      ]
    }
  ]
}